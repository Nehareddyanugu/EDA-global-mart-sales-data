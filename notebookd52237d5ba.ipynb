{
 "cells": [
  {
   "cell_type": "code",
   "execution_count": 46,
   "metadata": {
    "_cell_guid": "b1076dfc-b9ad-4769-8c92-a6c4dae69d19",
    "_uuid": "8f2839f25d086af736a60e9eeb907d3b93b6e0e5",
    "execution": {
     "iopub.execute_input": "2025-08-29T08:09:16.617684Z",
     "iopub.status.busy": "2025-08-29T08:09:16.616983Z",
     "iopub.status.idle": "2025-08-29T08:09:16.633641Z",
     "shell.execute_reply": "2025-08-29T08:09:16.632639Z",
     "shell.execute_reply.started": "2025-08-29T08:09:16.617658Z"
    },
    "trusted": true
   },
   "outputs": [
    {
     "name": "stdout",
     "output_type": "stream",
     "text": [
      "/kaggle/input/retail-orders/orders.csv\n"
     ]
    }
   ],
   "source": [
    "# This Python 3 environment comes with many helpful analytics libraries installed\n",
    "# It is defined by the kaggle/python Docker image: https://github.com/kaggle/docker-python\n",
    "# For example, here's several helpful packages to load\n",
    "\n",
    "import numpy as np # linear algebra\n",
    "import pandas as pd # data processing, CSV file I/O (e.g. pd.read_csv)\n",
    "\n",
    "# Input data files are available in the read-only \"../input/\" directory\n",
    "# For example, running this (by clicking run or pressing Shift+Enter) will list all files under the input directory\n",
    "\n",
    "import os\n",
    "for dirname, _, filenames in os.walk('/kaggle/input'):\n",
    "    for filename in filenames:\n",
    "        print(os.path.join(dirname, filename))\n",
    "\n",
    "# You can write up to 20GB to the current directory (/kaggle/working/) that gets preserved as output when you create a version using \"Save & Run All\" \n",
    "# You can also write temporary files to /kaggle/temp/, but they won't be saved outside of the current session"
   ]
  },
  {
   "cell_type": "markdown",
   "metadata": {},
   "source": [
    "*Checking no.of rows*"
   ]
  },
  {
   "cell_type": "markdown",
   "metadata": {},
   "source": [
    "**condition:rows>1000**"
   ]
  },
  {
   "cell_type": "code",
   "execution_count": 47,
   "metadata": {
    "execution": {
     "iopub.execute_input": "2025-08-29T08:09:16.635528Z",
     "iopub.status.busy": "2025-08-29T08:09:16.635196Z",
     "iopub.status.idle": "2025-08-29T08:09:16.685495Z",
     "shell.execute_reply": "2025-08-29T08:09:16.684657Z",
     "shell.execute_reply.started": "2025-08-29T08:09:16.635497Z"
    },
    "trusted": true
   },
   "outputs": [
    {
     "name": "stdout",
     "output_type": "stream",
     "text": [
      "(9994, 16)\n"
     ]
    }
   ],
   "source": [
    "import pandas as pd\n",
    "df=pd.read_csv('/kaggle/input/retail-orders/orders.csv')\n",
    "print(df.shape)"
   ]
  },
  {
   "cell_type": "markdown",
   "metadata": {},
   "source": [
    "**E-Commerce Sales Analysis**"
   ]
  },
  {
   "cell_type": "markdown",
   "metadata": {},
   "source": [
    "**About the dataset:*This dataset contains 2022 and 2023 global mart sales dataset***"
   ]
  },
  {
   "cell_type": "markdown",
   "metadata": {},
   "source": [
    "*We will see the 1st 5 rows*"
   ]
  },
  {
   "cell_type": "code",
   "execution_count": 48,
   "metadata": {
    "execution": {
     "iopub.execute_input": "2025-08-29T08:09:16.687739Z",
     "iopub.status.busy": "2025-08-29T08:09:16.686854Z",
     "iopub.status.idle": "2025-08-29T08:09:16.703943Z",
     "shell.execute_reply": "2025-08-29T08:09:16.703080Z",
     "shell.execute_reply.started": "2025-08-29T08:09:16.687713Z"
    },
    "trusted": true
   },
   "outputs": [
    {
     "data": {
      "text/html": [
       "<div>\n",
       "<style scoped>\n",
       "    .dataframe tbody tr th:only-of-type {\n",
       "        vertical-align: middle;\n",
       "    }\n",
       "\n",
       "    .dataframe tbody tr th {\n",
       "        vertical-align: top;\n",
       "    }\n",
       "\n",
       "    .dataframe thead th {\n",
       "        text-align: right;\n",
       "    }\n",
       "</style>\n",
       "<table border=\"1\" class=\"dataframe\">\n",
       "  <thead>\n",
       "    <tr style=\"text-align: right;\">\n",
       "      <th></th>\n",
       "      <th>Order Id</th>\n",
       "      <th>Order Date</th>\n",
       "      <th>Ship Mode</th>\n",
       "      <th>Segment</th>\n",
       "      <th>Country</th>\n",
       "      <th>City</th>\n",
       "      <th>State</th>\n",
       "      <th>Postal Code</th>\n",
       "      <th>Region</th>\n",
       "      <th>Category</th>\n",
       "      <th>Sub Category</th>\n",
       "      <th>Product Id</th>\n",
       "      <th>cost price</th>\n",
       "      <th>List Price</th>\n",
       "      <th>Quantity</th>\n",
       "      <th>Discount Percent</th>\n",
       "    </tr>\n",
       "  </thead>\n",
       "  <tbody>\n",
       "    <tr>\n",
       "      <th>0</th>\n",
       "      <td>1</td>\n",
       "      <td>2023-03-01</td>\n",
       "      <td>Second Class</td>\n",
       "      <td>Consumer</td>\n",
       "      <td>United States</td>\n",
       "      <td>Henderson</td>\n",
       "      <td>Kentucky</td>\n",
       "      <td>42420</td>\n",
       "      <td>South</td>\n",
       "      <td>Furniture</td>\n",
       "      <td>Bookcases</td>\n",
       "      <td>FUR-BO-10001798</td>\n",
       "      <td>240</td>\n",
       "      <td>260</td>\n",
       "      <td>2</td>\n",
       "      <td>2</td>\n",
       "    </tr>\n",
       "    <tr>\n",
       "      <th>1</th>\n",
       "      <td>2</td>\n",
       "      <td>2023-08-15</td>\n",
       "      <td>Second Class</td>\n",
       "      <td>Consumer</td>\n",
       "      <td>United States</td>\n",
       "      <td>Henderson</td>\n",
       "      <td>Kentucky</td>\n",
       "      <td>42420</td>\n",
       "      <td>South</td>\n",
       "      <td>Furniture</td>\n",
       "      <td>Chairs</td>\n",
       "      <td>FUR-CH-10000454</td>\n",
       "      <td>600</td>\n",
       "      <td>730</td>\n",
       "      <td>3</td>\n",
       "      <td>3</td>\n",
       "    </tr>\n",
       "    <tr>\n",
       "      <th>2</th>\n",
       "      <td>3</td>\n",
       "      <td>2023-01-10</td>\n",
       "      <td>Second Class</td>\n",
       "      <td>Corporate</td>\n",
       "      <td>United States</td>\n",
       "      <td>Los Angeles</td>\n",
       "      <td>California</td>\n",
       "      <td>90036</td>\n",
       "      <td>West</td>\n",
       "      <td>Office Supplies</td>\n",
       "      <td>Labels</td>\n",
       "      <td>OFF-LA-10000240</td>\n",
       "      <td>10</td>\n",
       "      <td>10</td>\n",
       "      <td>2</td>\n",
       "      <td>5</td>\n",
       "    </tr>\n",
       "    <tr>\n",
       "      <th>3</th>\n",
       "      <td>4</td>\n",
       "      <td>2022-06-18</td>\n",
       "      <td>Standard Class</td>\n",
       "      <td>Consumer</td>\n",
       "      <td>United States</td>\n",
       "      <td>Fort Lauderdale</td>\n",
       "      <td>Florida</td>\n",
       "      <td>33311</td>\n",
       "      <td>South</td>\n",
       "      <td>Furniture</td>\n",
       "      <td>Tables</td>\n",
       "      <td>FUR-TA-10000577</td>\n",
       "      <td>780</td>\n",
       "      <td>960</td>\n",
       "      <td>5</td>\n",
       "      <td>2</td>\n",
       "    </tr>\n",
       "    <tr>\n",
       "      <th>4</th>\n",
       "      <td>5</td>\n",
       "      <td>2022-07-13</td>\n",
       "      <td>Standard Class</td>\n",
       "      <td>Consumer</td>\n",
       "      <td>United States</td>\n",
       "      <td>Fort Lauderdale</td>\n",
       "      <td>Florida</td>\n",
       "      <td>33311</td>\n",
       "      <td>South</td>\n",
       "      <td>Office Supplies</td>\n",
       "      <td>Storage</td>\n",
       "      <td>OFF-ST-10000760</td>\n",
       "      <td>20</td>\n",
       "      <td>20</td>\n",
       "      <td>2</td>\n",
       "      <td>5</td>\n",
       "    </tr>\n",
       "  </tbody>\n",
       "</table>\n",
       "</div>"
      ],
      "text/plain": [
       "   Order Id  Order Date       Ship Mode    Segment        Country  \\\n",
       "0         1  2023-03-01    Second Class   Consumer  United States   \n",
       "1         2  2023-08-15    Second Class   Consumer  United States   \n",
       "2         3  2023-01-10    Second Class  Corporate  United States   \n",
       "3         4  2022-06-18  Standard Class   Consumer  United States   \n",
       "4         5  2022-07-13  Standard Class   Consumer  United States   \n",
       "\n",
       "              City       State  Postal Code Region         Category  \\\n",
       "0        Henderson    Kentucky        42420  South        Furniture   \n",
       "1        Henderson    Kentucky        42420  South        Furniture   \n",
       "2      Los Angeles  California        90036   West  Office Supplies   \n",
       "3  Fort Lauderdale     Florida        33311  South        Furniture   \n",
       "4  Fort Lauderdale     Florida        33311  South  Office Supplies   \n",
       "\n",
       "  Sub Category       Product Id  cost price  List Price  Quantity  \\\n",
       "0    Bookcases  FUR-BO-10001798         240         260         2   \n",
       "1       Chairs  FUR-CH-10000454         600         730         3   \n",
       "2       Labels  OFF-LA-10000240          10          10         2   \n",
       "3       Tables  FUR-TA-10000577         780         960         5   \n",
       "4      Storage  OFF-ST-10000760          20          20         2   \n",
       "\n",
       "   Discount Percent  \n",
       "0                 2  \n",
       "1                 3  \n",
       "2                 5  \n",
       "3                 2  \n",
       "4                 5  "
      ]
     },
     "execution_count": 48,
     "metadata": {},
     "output_type": "execute_result"
    }
   ],
   "source": [
    "df.head()\n"
   ]
  },
  {
   "cell_type": "markdown",
   "metadata": {},
   "source": [
    "**Cleaning Data**\n",
    "We should know the rough health of the data first.To know the rough health of the dataset we should know Sizes,types,missingness(null boxes),weird text columns.\n",
    "**.info()-***gives types and null counts of the dataset*\n",
    "**.describe()-***gives Statistical summary of dataframe or series*\n",
    "**.isnull().sum()-***gives missing values count in numeric type*"
   ]
  },
  {
   "cell_type": "code",
   "execution_count": 49,
   "metadata": {
    "execution": {
     "iopub.execute_input": "2025-08-29T08:09:16.705284Z",
     "iopub.status.busy": "2025-08-29T08:09:16.704960Z",
     "iopub.status.idle": "2025-08-29T08:09:16.737796Z",
     "shell.execute_reply": "2025-08-29T08:09:16.736697Z",
     "shell.execute_reply.started": "2025-08-29T08:09:16.705253Z"
    },
    "trusted": true
   },
   "outputs": [
    {
     "name": "stdout",
     "output_type": "stream",
     "text": [
      "<class 'pandas.core.frame.DataFrame'>\n",
      "RangeIndex: 9994 entries, 0 to 9993\n",
      "Data columns (total 16 columns):\n",
      " #   Column            Non-Null Count  Dtype \n",
      "---  ------            --------------  ----- \n",
      " 0   Order Id          9994 non-null   int64 \n",
      " 1   Order Date        9994 non-null   object\n",
      " 2   Ship Mode         9993 non-null   object\n",
      " 3   Segment           9994 non-null   object\n",
      " 4   Country           9994 non-null   object\n",
      " 5   City              9994 non-null   object\n",
      " 6   State             9994 non-null   object\n",
      " 7   Postal Code       9994 non-null   int64 \n",
      " 8   Region            9994 non-null   object\n",
      " 9   Category          9994 non-null   object\n",
      " 10  Sub Category      9994 non-null   object\n",
      " 11  Product Id        9994 non-null   object\n",
      " 12  cost price        9994 non-null   int64 \n",
      " 13  List Price        9994 non-null   int64 \n",
      " 14  Quantity          9994 non-null   int64 \n",
      " 15  Discount Percent  9994 non-null   int64 \n",
      "dtypes: int64(6), object(10)\n",
      "memory usage: 1.2+ MB\n"
     ]
    }
   ],
   "source": [
    "df.info()"
   ]
  },
  {
   "cell_type": "markdown",
   "metadata": {},
   "source": [
    "*To Know no of null values in numeric type do .isnull().sum()*"
   ]
  },
  {
   "cell_type": "code",
   "execution_count": 50,
   "metadata": {
    "execution": {
     "iopub.execute_input": "2025-08-29T08:09:16.740127Z",
     "iopub.status.busy": "2025-08-29T08:09:16.739734Z",
     "iopub.status.idle": "2025-08-29T08:09:16.766745Z",
     "shell.execute_reply": "2025-08-29T08:09:16.765814Z",
     "shell.execute_reply.started": "2025-08-29T08:09:16.740104Z"
    },
    "trusted": true
   },
   "outputs": [
    {
     "data": {
      "text/plain": [
       "Order Id            0\n",
       "Order Date          0\n",
       "Ship Mode           1\n",
       "Segment             0\n",
       "Country             0\n",
       "City                0\n",
       "State               0\n",
       "Postal Code         0\n",
       "Region              0\n",
       "Category            0\n",
       "Sub Category        0\n",
       "Product Id          0\n",
       "cost price          0\n",
       "List Price          0\n",
       "Quantity            0\n",
       "Discount Percent    0\n",
       "dtype: int64"
      ]
     },
     "execution_count": 50,
     "metadata": {},
     "output_type": "execute_result"
    }
   ],
   "source": [
    "df.isnull().sum()\n"
   ]
  },
  {
   "cell_type": "markdown",
   "metadata": {},
   "source": [
    "**From above we came to know ship mode column has one missing value**"
   ]
  },
  {
   "cell_type": "code",
   "execution_count": 51,
   "metadata": {
    "execution": {
     "iopub.execute_input": "2025-08-29T08:09:16.768387Z",
     "iopub.status.busy": "2025-08-29T08:09:16.768041Z",
     "iopub.status.idle": "2025-08-29T08:09:16.795562Z",
     "shell.execute_reply": "2025-08-29T08:09:16.794760Z",
     "shell.execute_reply.started": "2025-08-29T08:09:16.768357Z"
    },
    "trusted": true
   },
   "outputs": [
    {
     "data": {
      "text/plain": [
       "Ship Mode           1\n",
       "Order Id            0\n",
       "Order Date          0\n",
       "Segment             0\n",
       "Country             0\n",
       "City                0\n",
       "State               0\n",
       "Postal Code         0\n",
       "Region              0\n",
       "Category            0\n",
       "Sub Category        0\n",
       "Product Id          0\n",
       "cost price          0\n",
       "List Price          0\n",
       "Quantity            0\n",
       "Discount Percent    0\n",
       "dtype: int64"
      ]
     },
     "execution_count": 51,
     "metadata": {},
     "output_type": "execute_result"
    }
   ],
   "source": [
    "df.isnull().sum().sort_values(ascending=False).head(20)"
   ]
  },
  {
   "cell_type": "code",
   "execution_count": 52,
   "metadata": {
    "execution": {
     "iopub.execute_input": "2025-08-29T08:09:16.796822Z",
     "iopub.status.busy": "2025-08-29T08:09:16.796506Z",
     "iopub.status.idle": "2025-08-29T08:09:16.942804Z",
     "shell.execute_reply": "2025-08-29T08:09:16.941899Z",
     "shell.execute_reply.started": "2025-08-29T08:09:16.796797Z"
    },
    "trusted": true
   },
   "outputs": [
    {
     "data": {
      "text/html": [
       "<div>\n",
       "<style scoped>\n",
       "    .dataframe tbody tr th:only-of-type {\n",
       "        vertical-align: middle;\n",
       "    }\n",
       "\n",
       "    .dataframe tbody tr th {\n",
       "        vertical-align: top;\n",
       "    }\n",
       "\n",
       "    .dataframe thead th {\n",
       "        text-align: right;\n",
       "    }\n",
       "</style>\n",
       "<table border=\"1\" class=\"dataframe\">\n",
       "  <thead>\n",
       "    <tr style=\"text-align: right;\">\n",
       "      <th></th>\n",
       "      <th>Order Id</th>\n",
       "      <th>Postal Code</th>\n",
       "      <th>cost price</th>\n",
       "      <th>List Price</th>\n",
       "      <th>Quantity</th>\n",
       "      <th>Discount Percent</th>\n",
       "    </tr>\n",
       "  </thead>\n",
       "  <tbody>\n",
       "    <tr>\n",
       "      <th>count</th>\n",
       "      <td>9994.000000</td>\n",
       "      <td>9994.000000</td>\n",
       "      <td>9994.000000</td>\n",
       "      <td>9994.000000</td>\n",
       "      <td>9994.000000</td>\n",
       "      <td>9994.000000</td>\n",
       "    </tr>\n",
       "    <tr>\n",
       "      <th>mean</th>\n",
       "      <td>4997.500000</td>\n",
       "      <td>55190.379428</td>\n",
       "      <td>201.189714</td>\n",
       "      <td>229.756854</td>\n",
       "      <td>3.789574</td>\n",
       "      <td>3.484090</td>\n",
       "    </tr>\n",
       "    <tr>\n",
       "      <th>std</th>\n",
       "      <td>2885.163629</td>\n",
       "      <td>32063.693350</td>\n",
       "      <td>537.743203</td>\n",
       "      <td>623.245839</td>\n",
       "      <td>2.225110</td>\n",
       "      <td>1.114211</td>\n",
       "    </tr>\n",
       "    <tr>\n",
       "      <th>min</th>\n",
       "      <td>1.000000</td>\n",
       "      <td>1040.000000</td>\n",
       "      <td>0.000000</td>\n",
       "      <td>0.000000</td>\n",
       "      <td>1.000000</td>\n",
       "      <td>2.000000</td>\n",
       "    </tr>\n",
       "    <tr>\n",
       "      <th>25%</th>\n",
       "      <td>2499.250000</td>\n",
       "      <td>23223.000000</td>\n",
       "      <td>20.000000</td>\n",
       "      <td>20.000000</td>\n",
       "      <td>2.000000</td>\n",
       "      <td>2.000000</td>\n",
       "    </tr>\n",
       "    <tr>\n",
       "      <th>50%</th>\n",
       "      <td>4997.500000</td>\n",
       "      <td>56430.500000</td>\n",
       "      <td>50.000000</td>\n",
       "      <td>50.000000</td>\n",
       "      <td>3.000000</td>\n",
       "      <td>3.000000</td>\n",
       "    </tr>\n",
       "    <tr>\n",
       "      <th>75%</th>\n",
       "      <td>7495.750000</td>\n",
       "      <td>90008.000000</td>\n",
       "      <td>180.000000</td>\n",
       "      <td>210.000000</td>\n",
       "      <td>5.000000</td>\n",
       "      <td>4.000000</td>\n",
       "    </tr>\n",
       "    <tr>\n",
       "      <th>max</th>\n",
       "      <td>9994.000000</td>\n",
       "      <td>99301.000000</td>\n",
       "      <td>18110.000000</td>\n",
       "      <td>22640.000000</td>\n",
       "      <td>14.000000</td>\n",
       "      <td>5.000000</td>\n",
       "    </tr>\n",
       "  </tbody>\n",
       "</table>\n",
       "</div>"
      ],
      "text/plain": [
       "          Order Id   Postal Code    cost price    List Price     Quantity  \\\n",
       "count  9994.000000   9994.000000   9994.000000   9994.000000  9994.000000   \n",
       "mean   4997.500000  55190.379428    201.189714    229.756854     3.789574   \n",
       "std    2885.163629  32063.693350    537.743203    623.245839     2.225110   \n",
       "min       1.000000   1040.000000      0.000000      0.000000     1.000000   \n",
       "25%    2499.250000  23223.000000     20.000000     20.000000     2.000000   \n",
       "50%    4997.500000  56430.500000     50.000000     50.000000     3.000000   \n",
       "75%    7495.750000  90008.000000    180.000000    210.000000     5.000000   \n",
       "max    9994.000000  99301.000000  18110.000000  22640.000000    14.000000   \n",
       "\n",
       "       Discount Percent  \n",
       "count       9994.000000  \n",
       "mean           3.484090  \n",
       "std            1.114211  \n",
       "min            2.000000  \n",
       "25%            2.000000  \n",
       "50%            3.000000  \n",
       "75%            4.000000  \n",
       "max            5.000000  "
      ]
     },
     "execution_count": 52,
     "metadata": {},
     "output_type": "execute_result"
    }
   ],
   "source": [
    "df.describe()\n"
   ]
  },
  {
   "cell_type": "markdown",
   "metadata": {},
   "source": [
    "Before Cleaning Data we will go through some methods\n",
    "**1.Standardize Column Names**\n",
    "**2.Fixing Data Types**"
   ]
  },
  {
   "cell_type": "markdown",
   "metadata": {},
   "source": []
  },
  {
   "cell_type": "code",
   "execution_count": 53,
   "metadata": {
    "execution": {
     "iopub.execute_input": "2025-08-29T08:09:16.944226Z",
     "iopub.status.busy": "2025-08-29T08:09:16.943867Z",
     "iopub.status.idle": "2025-08-29T08:09:16.950344Z",
     "shell.execute_reply": "2025-08-29T08:09:16.949261Z",
     "shell.execute_reply.started": "2025-08-29T08:09:16.944199Z"
    },
    "trusted": true
   },
   "outputs": [],
   "source": [
    "df.columns=(df.columns.str.strip().str.lower().str.replace(' ','_').str.replace('[^0-9a-zA-Z]','',regex=True))\n",
    "#str.strip() removes leading and trailing spaces\n",
    "#str.lower() converts all characters of the string to lowercase\n",
    "#str.replace(a,b) replaces a with b where,a and b are characters "
   ]
  },
  {
   "cell_type": "code",
   "execution_count": 54,
   "metadata": {
    "execution": {
     "iopub.execute_input": "2025-08-29T08:09:16.951548Z",
     "iopub.status.busy": "2025-08-29T08:09:16.951248Z",
     "iopub.status.idle": "2025-08-29T08:09:16.978187Z",
     "shell.execute_reply": "2025-08-29T08:09:16.977258Z",
     "shell.execute_reply.started": "2025-08-29T08:09:16.951521Z"
    },
    "trusted": true
   },
   "outputs": [
    {
     "data": {
      "text/plain": [
       "Index(['orderid', 'orderdate', 'shipmode', 'segment', 'country', 'city',\n",
       "       'state', 'postalcode', 'region', 'category', 'subcategory', 'productid',\n",
       "       'costprice', 'listprice', 'quantity', 'discountpercent'],\n",
       "      dtype='object')"
      ]
     },
     "execution_count": 54,
     "metadata": {},
     "output_type": "execute_result"
    }
   ],
   "source": [
    "df.columns\n"
   ]
  },
  {
   "cell_type": "code",
   "execution_count": 55,
   "metadata": {
    "execution": {
     "iopub.execute_input": "2025-08-29T08:09:16.981055Z",
     "iopub.status.busy": "2025-08-29T08:09:16.980751Z",
     "iopub.status.idle": "2025-08-29T08:09:20.611994Z",
     "shell.execute_reply": "2025-08-29T08:09:20.610892Z",
     "shell.execute_reply.started": "2025-08-29T08:09:16.981032Z"
    },
    "trusted": true
   },
   "outputs": [],
   "source": [
    "df[['costprice','listprice','quantity']]=df[['costprice','listprice','quantity']].apply(pd.to_numeric,errors='coerce')\n",
    "df['orderdate']=df['orderdate'].apply(pd.to_datetime,errors='coerce')\n",
    "df[['shipmode','segment', 'country', 'city','state', 'postalcode', 'region', 'category', 'subcategory']]=df[['shipmode','segment', 'country', 'city','state', 'postalcode', 'region', 'category', 'subcategory']].apply(lambda x:x.astype('category'))\n",
    "df['discountpercent']=df['discountpercent'].astype(float)\n",
    "df[['orderid','productid','postalcode']]=df[['orderid','productid','postalcode']].apply(lambda x:x.astype(str))"
   ]
  },
  {
   "cell_type": "code",
   "execution_count": 56,
   "metadata": {
    "execution": {
     "iopub.execute_input": "2025-08-29T08:09:20.613316Z",
     "iopub.status.busy": "2025-08-29T08:09:20.613034Z",
     "iopub.status.idle": "2025-08-29T08:09:20.632301Z",
     "shell.execute_reply": "2025-08-29T08:09:20.631380Z",
     "shell.execute_reply.started": "2025-08-29T08:09:20.613295Z"
    },
    "trusted": true
   },
   "outputs": [
    {
     "name": "stdout",
     "output_type": "stream",
     "text": [
      "<class 'pandas.core.frame.DataFrame'>\n",
      "RangeIndex: 9994 entries, 0 to 9993\n",
      "Data columns (total 16 columns):\n",
      " #   Column           Non-Null Count  Dtype         \n",
      "---  ------           --------------  -----         \n",
      " 0   orderid          9994 non-null   object        \n",
      " 1   orderdate        9994 non-null   datetime64[ns]\n",
      " 2   shipmode         9993 non-null   category      \n",
      " 3   segment          9994 non-null   category      \n",
      " 4   country          9994 non-null   category      \n",
      " 5   city             9994 non-null   category      \n",
      " 6   state            9994 non-null   category      \n",
      " 7   postalcode       9994 non-null   object        \n",
      " 8   region           9994 non-null   category      \n",
      " 9   category         9994 non-null   category      \n",
      " 10  subcategory      9994 non-null   category      \n",
      " 11  productid        9994 non-null   object        \n",
      " 12  costprice        9994 non-null   int64         \n",
      " 13  listprice        9994 non-null   int64         \n",
      " 14  quantity         9994 non-null   int64         \n",
      " 15  discountpercent  9994 non-null   float64       \n",
      "dtypes: category(8), datetime64[ns](1), float64(1), int64(3), object(3)\n",
      "memory usage: 735.8+ KB\n"
     ]
    }
   ],
   "source": [
    "df.info()"
   ]
  },
  {
   "cell_type": "code",
   "execution_count": 57,
   "metadata": {
    "execution": {
     "iopub.execute_input": "2025-08-29T08:09:20.633434Z",
     "iopub.status.busy": "2025-08-29T08:09:20.633166Z",
     "iopub.status.idle": "2025-08-29T08:09:20.651787Z",
     "shell.execute_reply": "2025-08-29T08:09:20.650759Z",
     "shell.execute_reply.started": "2025-08-29T08:09:20.633408Z"
    },
    "trusted": true
   },
   "outputs": [
    {
     "data": {
      "text/plain": [
       "0       False\n",
       "1       False\n",
       "2       False\n",
       "3       False\n",
       "4       False\n",
       "        ...  \n",
       "9989    False\n",
       "9990    False\n",
       "9991    False\n",
       "9992    False\n",
       "9993    False\n",
       "Length: 9994, dtype: bool"
      ]
     },
     "execution_count": 57,
     "metadata": {},
     "output_type": "execute_result"
    }
   ],
   "source": [
    "df.duplicated()"
   ]
  },
  {
   "cell_type": "code",
   "execution_count": 58,
   "metadata": {
    "execution": {
     "iopub.execute_input": "2025-08-29T08:09:20.653560Z",
     "iopub.status.busy": "2025-08-29T08:09:20.653211Z",
     "iopub.status.idle": "2025-08-29T08:09:20.669683Z",
     "shell.execute_reply": "2025-08-29T08:09:20.668359Z",
     "shell.execute_reply.started": "2025-08-29T08:09:20.653529Z"
    },
    "trusted": true
   },
   "outputs": [
    {
     "data": {
      "text/plain": [
       "0"
      ]
     },
     "execution_count": 58,
     "metadata": {},
     "output_type": "execute_result"
    }
   ],
   "source": [
    "df.duplicated().sum()"
   ]
  },
  {
   "cell_type": "markdown",
   "metadata": {},
   "source": [
    "**It Means There are no duplicates **\n",
    "And if there were duplicates then we remove by using the method .drop_duplicates()\n",
    "Let's create a duplicate row manually and remove it"
   ]
  },
  {
   "cell_type": "code",
   "execution_count": 59,
   "metadata": {
    "execution": {
     "iopub.execute_input": "2025-08-29T08:09:20.671115Z",
     "iopub.status.busy": "2025-08-29T08:09:20.670789Z",
     "iopub.status.idle": "2025-08-29T08:09:20.691051Z",
     "shell.execute_reply": "2025-08-29T08:09:20.690081Z",
     "shell.execute_reply.started": "2025-08-29T08:09:20.671093Z"
    },
    "trusted": true
   },
   "outputs": [
    {
     "name": "stdout",
     "output_type": "stream",
     "text": [
      "  orderid  orderdate        shipmode    segment        country  \\\n",
      "0       1 2023-03-01    Second Class   Consumer  United States   \n",
      "1       2 2023-08-15    Second Class   Consumer  United States   \n",
      "2       3 2023-01-10    Second Class  Corporate  United States   \n",
      "3       4 2022-06-18  Standard Class   Consumer  United States   \n",
      "4       5 2022-07-13  Standard Class   Consumer  United States   \n",
      "\n",
      "              city       state postalcode region         category subcategory  \\\n",
      "0        Henderson    Kentucky      42420  South        Furniture   Bookcases   \n",
      "1        Henderson    Kentucky      42420  South        Furniture      Chairs   \n",
      "2      Los Angeles  California      90036   West  Office Supplies      Labels   \n",
      "3  Fort Lauderdale     Florida      33311  South        Furniture      Tables   \n",
      "4  Fort Lauderdale     Florida      33311  South  Office Supplies     Storage   \n",
      "\n",
      "         productid  costprice  listprice  quantity  discountpercent  \n",
      "0  FUR-BO-10001798        240        260         2              2.0  \n",
      "1  FUR-CH-10000454        600        730         3              3.0  \n",
      "2  OFF-LA-10000240         10         10         2              5.0  \n",
      "3  FUR-TA-10000577        780        960         5              2.0  \n",
      "4  OFF-ST-10000760         20         20         2              5.0  \n"
     ]
    }
   ],
   "source": [
    "# Duplicate row 0 and append it\n",
    "df = pd.concat([df, df.iloc[[0]]], ignore_index=True)\n",
    "print(df.head())"
   ]
  },
  {
   "cell_type": "code",
   "execution_count": 60,
   "metadata": {
    "execution": {
     "iopub.execute_input": "2025-08-29T08:09:20.692573Z",
     "iopub.status.busy": "2025-08-29T08:09:20.692277Z",
     "iopub.status.idle": "2025-08-29T08:09:20.716225Z",
     "shell.execute_reply": "2025-08-29T08:09:20.715177Z",
     "shell.execute_reply.started": "2025-08-29T08:09:20.692541Z"
    },
    "trusted": true
   },
   "outputs": [
    {
     "data": {
      "text/plain": [
       "0       False\n",
       "1       False\n",
       "2       False\n",
       "3       False\n",
       "4       False\n",
       "        ...  \n",
       "9990    False\n",
       "9991    False\n",
       "9992    False\n",
       "9993    False\n",
       "9994     True\n",
       "Length: 9995, dtype: bool"
      ]
     },
     "execution_count": 60,
     "metadata": {},
     "output_type": "execute_result"
    }
   ],
   "source": [
    "df.duplicated()"
   ]
  },
  {
   "cell_type": "code",
   "execution_count": 61,
   "metadata": {
    "execution": {
     "iopub.execute_input": "2025-08-29T08:09:20.717830Z",
     "iopub.status.busy": "2025-08-29T08:09:20.717507Z",
     "iopub.status.idle": "2025-08-29T08:09:20.730674Z",
     "shell.execute_reply": "2025-08-29T08:09:20.729793Z",
     "shell.execute_reply.started": "2025-08-29T08:09:20.717803Z"
    },
    "trusted": true
   },
   "outputs": [
    {
     "data": {
      "text/plain": [
       "1"
      ]
     },
     "execution_count": 61,
     "metadata": {},
     "output_type": "execute_result"
    }
   ],
   "source": [
    "df.duplicated().sum()"
   ]
  },
  {
   "cell_type": "markdown",
   "metadata": {},
   "source": [
    "**Now row '0' is twice in the dataframe so, we will remove that by using .dropna() or we have another method directly for droping duplicates instead of manually mentioning evry duplicate manually is .drop_duplicates(inplace=True)**"
   ]
  },
  {
   "cell_type": "code",
   "execution_count": 62,
   "metadata": {
    "execution": {
     "iopub.execute_input": "2025-08-29T08:09:20.732363Z",
     "iopub.status.busy": "2025-08-29T08:09:20.731702Z",
     "iopub.status.idle": "2025-08-29T08:09:20.753242Z",
     "shell.execute_reply": "2025-08-29T08:09:20.752237Z",
     "shell.execute_reply.started": "2025-08-29T08:09:20.732338Z"
    },
    "trusted": true
   },
   "outputs": [],
   "source": [
    "df.drop_duplicates(inplace=True)#.drop_duplicates() returns a new dataframe.If we mention inplace=True then it modifies there itself instead of returning new"
   ]
  },
  {
   "cell_type": "markdown",
   "metadata": {},
   "source": [
    "**Re-check DataFrame again for the duplicates Whether they are removed or stil in the df**"
   ]
  },
  {
   "cell_type": "code",
   "execution_count": 63,
   "metadata": {
    "execution": {
     "iopub.execute_input": "2025-08-29T08:09:20.754490Z",
     "iopub.status.busy": "2025-08-29T08:09:20.754271Z",
     "iopub.status.idle": "2025-08-29T08:09:20.767895Z",
     "shell.execute_reply": "2025-08-29T08:09:20.767242Z",
     "shell.execute_reply.started": "2025-08-29T08:09:20.754475Z"
    },
    "trusted": true
   },
   "outputs": [
    {
     "data": {
      "text/plain": [
       "0"
      ]
     },
     "execution_count": 63,
     "metadata": {},
     "output_type": "execute_result"
    }
   ],
   "source": [
    "df.duplicated().sum()"
   ]
  },
  {
   "cell_type": "markdown",
   "metadata": {},
   "source": [
    "**Finding Missing values**"
   ]
  },
  {
   "cell_type": "code",
   "execution_count": 64,
   "metadata": {
    "execution": {
     "iopub.execute_input": "2025-08-29T08:09:20.769008Z",
     "iopub.status.busy": "2025-08-29T08:09:20.768714Z",
     "iopub.status.idle": "2025-08-29T08:09:20.794156Z",
     "shell.execute_reply": "2025-08-29T08:09:20.793190Z",
     "shell.execute_reply.started": "2025-08-29T08:09:20.768986Z"
    },
    "trusted": true
   },
   "outputs": [
    {
     "data": {
      "text/html": [
       "<div>\n",
       "<style scoped>\n",
       "    .dataframe tbody tr th:only-of-type {\n",
       "        vertical-align: middle;\n",
       "    }\n",
       "\n",
       "    .dataframe tbody tr th {\n",
       "        vertical-align: top;\n",
       "    }\n",
       "\n",
       "    .dataframe thead th {\n",
       "        text-align: right;\n",
       "    }\n",
       "</style>\n",
       "<table border=\"1\" class=\"dataframe\">\n",
       "  <thead>\n",
       "    <tr style=\"text-align: right;\">\n",
       "      <th></th>\n",
       "      <th>orderid</th>\n",
       "      <th>orderdate</th>\n",
       "      <th>shipmode</th>\n",
       "      <th>segment</th>\n",
       "      <th>country</th>\n",
       "      <th>city</th>\n",
       "      <th>state</th>\n",
       "      <th>postalcode</th>\n",
       "      <th>region</th>\n",
       "      <th>category</th>\n",
       "      <th>subcategory</th>\n",
       "      <th>productid</th>\n",
       "      <th>costprice</th>\n",
       "      <th>listprice</th>\n",
       "      <th>quantity</th>\n",
       "      <th>discountpercent</th>\n",
       "    </tr>\n",
       "  </thead>\n",
       "  <tbody>\n",
       "    <tr>\n",
       "      <th>0</th>\n",
       "      <td>False</td>\n",
       "      <td>False</td>\n",
       "      <td>False</td>\n",
       "      <td>False</td>\n",
       "      <td>False</td>\n",
       "      <td>False</td>\n",
       "      <td>False</td>\n",
       "      <td>False</td>\n",
       "      <td>False</td>\n",
       "      <td>False</td>\n",
       "      <td>False</td>\n",
       "      <td>False</td>\n",
       "      <td>False</td>\n",
       "      <td>False</td>\n",
       "      <td>False</td>\n",
       "      <td>False</td>\n",
       "    </tr>\n",
       "    <tr>\n",
       "      <th>1</th>\n",
       "      <td>False</td>\n",
       "      <td>False</td>\n",
       "      <td>False</td>\n",
       "      <td>False</td>\n",
       "      <td>False</td>\n",
       "      <td>False</td>\n",
       "      <td>False</td>\n",
       "      <td>False</td>\n",
       "      <td>False</td>\n",
       "      <td>False</td>\n",
       "      <td>False</td>\n",
       "      <td>False</td>\n",
       "      <td>False</td>\n",
       "      <td>False</td>\n",
       "      <td>False</td>\n",
       "      <td>False</td>\n",
       "    </tr>\n",
       "    <tr>\n",
       "      <th>2</th>\n",
       "      <td>False</td>\n",
       "      <td>False</td>\n",
       "      <td>False</td>\n",
       "      <td>False</td>\n",
       "      <td>False</td>\n",
       "      <td>False</td>\n",
       "      <td>False</td>\n",
       "      <td>False</td>\n",
       "      <td>False</td>\n",
       "      <td>False</td>\n",
       "      <td>False</td>\n",
       "      <td>False</td>\n",
       "      <td>False</td>\n",
       "      <td>False</td>\n",
       "      <td>False</td>\n",
       "      <td>False</td>\n",
       "    </tr>\n",
       "    <tr>\n",
       "      <th>3</th>\n",
       "      <td>False</td>\n",
       "      <td>False</td>\n",
       "      <td>False</td>\n",
       "      <td>False</td>\n",
       "      <td>False</td>\n",
       "      <td>False</td>\n",
       "      <td>False</td>\n",
       "      <td>False</td>\n",
       "      <td>False</td>\n",
       "      <td>False</td>\n",
       "      <td>False</td>\n",
       "      <td>False</td>\n",
       "      <td>False</td>\n",
       "      <td>False</td>\n",
       "      <td>False</td>\n",
       "      <td>False</td>\n",
       "    </tr>\n",
       "    <tr>\n",
       "      <th>4</th>\n",
       "      <td>False</td>\n",
       "      <td>False</td>\n",
       "      <td>False</td>\n",
       "      <td>False</td>\n",
       "      <td>False</td>\n",
       "      <td>False</td>\n",
       "      <td>False</td>\n",
       "      <td>False</td>\n",
       "      <td>False</td>\n",
       "      <td>False</td>\n",
       "      <td>False</td>\n",
       "      <td>False</td>\n",
       "      <td>False</td>\n",
       "      <td>False</td>\n",
       "      <td>False</td>\n",
       "      <td>False</td>\n",
       "    </tr>\n",
       "    <tr>\n",
       "      <th>...</th>\n",
       "      <td>...</td>\n",
       "      <td>...</td>\n",
       "      <td>...</td>\n",
       "      <td>...</td>\n",
       "      <td>...</td>\n",
       "      <td>...</td>\n",
       "      <td>...</td>\n",
       "      <td>...</td>\n",
       "      <td>...</td>\n",
       "      <td>...</td>\n",
       "      <td>...</td>\n",
       "      <td>...</td>\n",
       "      <td>...</td>\n",
       "      <td>...</td>\n",
       "      <td>...</td>\n",
       "      <td>...</td>\n",
       "    </tr>\n",
       "    <tr>\n",
       "      <th>9989</th>\n",
       "      <td>False</td>\n",
       "      <td>False</td>\n",
       "      <td>False</td>\n",
       "      <td>False</td>\n",
       "      <td>False</td>\n",
       "      <td>False</td>\n",
       "      <td>False</td>\n",
       "      <td>False</td>\n",
       "      <td>False</td>\n",
       "      <td>False</td>\n",
       "      <td>False</td>\n",
       "      <td>False</td>\n",
       "      <td>False</td>\n",
       "      <td>False</td>\n",
       "      <td>False</td>\n",
       "      <td>False</td>\n",
       "    </tr>\n",
       "    <tr>\n",
       "      <th>9990</th>\n",
       "      <td>False</td>\n",
       "      <td>False</td>\n",
       "      <td>False</td>\n",
       "      <td>False</td>\n",
       "      <td>False</td>\n",
       "      <td>False</td>\n",
       "      <td>False</td>\n",
       "      <td>False</td>\n",
       "      <td>False</td>\n",
       "      <td>False</td>\n",
       "      <td>False</td>\n",
       "      <td>False</td>\n",
       "      <td>False</td>\n",
       "      <td>False</td>\n",
       "      <td>False</td>\n",
       "      <td>False</td>\n",
       "    </tr>\n",
       "    <tr>\n",
       "      <th>9991</th>\n",
       "      <td>False</td>\n",
       "      <td>False</td>\n",
       "      <td>False</td>\n",
       "      <td>False</td>\n",
       "      <td>False</td>\n",
       "      <td>False</td>\n",
       "      <td>False</td>\n",
       "      <td>False</td>\n",
       "      <td>False</td>\n",
       "      <td>False</td>\n",
       "      <td>False</td>\n",
       "      <td>False</td>\n",
       "      <td>False</td>\n",
       "      <td>False</td>\n",
       "      <td>False</td>\n",
       "      <td>False</td>\n",
       "    </tr>\n",
       "    <tr>\n",
       "      <th>9992</th>\n",
       "      <td>False</td>\n",
       "      <td>False</td>\n",
       "      <td>False</td>\n",
       "      <td>False</td>\n",
       "      <td>False</td>\n",
       "      <td>False</td>\n",
       "      <td>False</td>\n",
       "      <td>False</td>\n",
       "      <td>False</td>\n",
       "      <td>False</td>\n",
       "      <td>False</td>\n",
       "      <td>False</td>\n",
       "      <td>False</td>\n",
       "      <td>False</td>\n",
       "      <td>False</td>\n",
       "      <td>False</td>\n",
       "    </tr>\n",
       "    <tr>\n",
       "      <th>9993</th>\n",
       "      <td>False</td>\n",
       "      <td>False</td>\n",
       "      <td>False</td>\n",
       "      <td>False</td>\n",
       "      <td>False</td>\n",
       "      <td>False</td>\n",
       "      <td>False</td>\n",
       "      <td>False</td>\n",
       "      <td>False</td>\n",
       "      <td>False</td>\n",
       "      <td>False</td>\n",
       "      <td>False</td>\n",
       "      <td>False</td>\n",
       "      <td>False</td>\n",
       "      <td>False</td>\n",
       "      <td>False</td>\n",
       "    </tr>\n",
       "  </tbody>\n",
       "</table>\n",
       "<p>9994 rows × 16 columns</p>\n",
       "</div>"
      ],
      "text/plain": [
       "      orderid  orderdate  shipmode  segment  country   city  state  \\\n",
       "0       False      False     False    False    False  False  False   \n",
       "1       False      False     False    False    False  False  False   \n",
       "2       False      False     False    False    False  False  False   \n",
       "3       False      False     False    False    False  False  False   \n",
       "4       False      False     False    False    False  False  False   \n",
       "...       ...        ...       ...      ...      ...    ...    ...   \n",
       "9989    False      False     False    False    False  False  False   \n",
       "9990    False      False     False    False    False  False  False   \n",
       "9991    False      False     False    False    False  False  False   \n",
       "9992    False      False     False    False    False  False  False   \n",
       "9993    False      False     False    False    False  False  False   \n",
       "\n",
       "      postalcode  region  category  subcategory  productid  costprice  \\\n",
       "0          False   False     False        False      False      False   \n",
       "1          False   False     False        False      False      False   \n",
       "2          False   False     False        False      False      False   \n",
       "3          False   False     False        False      False      False   \n",
       "4          False   False     False        False      False      False   \n",
       "...          ...     ...       ...          ...        ...        ...   \n",
       "9989       False   False     False        False      False      False   \n",
       "9990       False   False     False        False      False      False   \n",
       "9991       False   False     False        False      False      False   \n",
       "9992       False   False     False        False      False      False   \n",
       "9993       False   False     False        False      False      False   \n",
       "\n",
       "      listprice  quantity  discountpercent  \n",
       "0         False     False            False  \n",
       "1         False     False            False  \n",
       "2         False     False            False  \n",
       "3         False     False            False  \n",
       "4         False     False            False  \n",
       "...         ...       ...              ...  \n",
       "9989      False     False            False  \n",
       "9990      False     False            False  \n",
       "9991      False     False            False  \n",
       "9992      False     False            False  \n",
       "9993      False     False            False  \n",
       "\n",
       "[9994 rows x 16 columns]"
      ]
     },
     "execution_count": 64,
     "metadata": {},
     "output_type": "execute_result"
    }
   ],
   "source": [
    "df.isnull()"
   ]
  },
  {
   "cell_type": "code",
   "execution_count": 65,
   "metadata": {
    "execution": {
     "iopub.execute_input": "2025-08-29T08:09:20.795491Z",
     "iopub.status.busy": "2025-08-29T08:09:20.795223Z",
     "iopub.status.idle": "2025-08-29T08:09:20.809266Z",
     "shell.execute_reply": "2025-08-29T08:09:20.808312Z",
     "shell.execute_reply.started": "2025-08-29T08:09:20.795471Z"
    },
    "trusted": true
   },
   "outputs": [
    {
     "data": {
      "text/plain": [
       "orderid            0\n",
       "orderdate          0\n",
       "shipmode           1\n",
       "segment            0\n",
       "country            0\n",
       "city               0\n",
       "state              0\n",
       "postalcode         0\n",
       "region             0\n",
       "category           0\n",
       "subcategory        0\n",
       "productid          0\n",
       "costprice          0\n",
       "listprice          0\n",
       "quantity           0\n",
       "discountpercent    0\n",
       "dtype: int64"
      ]
     },
     "execution_count": 65,
     "metadata": {},
     "output_type": "execute_result"
    }
   ],
   "source": [
    "df.isnull().sum()"
   ]
  },
  {
   "cell_type": "markdown",
   "metadata": {},
   "source": [
    "*As we know 'Shipmode belongs to category dtype then we will make fall most repeated category in that cell or drop the row cause it wont effect that much by dropping 1*"
   ]
  },
  {
   "cell_type": "code",
   "execution_count": 66,
   "metadata": {
    "execution": {
     "iopub.execute_input": "2025-08-29T08:09:20.810770Z",
     "iopub.status.busy": "2025-08-29T08:09:20.810485Z",
     "iopub.status.idle": "2025-08-29T08:09:20.834308Z",
     "shell.execute_reply": "2025-08-29T08:09:20.833259Z",
     "shell.execute_reply.started": "2025-08-29T08:09:20.810750Z"
    },
    "trusted": true
   },
   "outputs": [],
   "source": [
    "df.fillna({'shipmode':df['shipmode'].mode()[0]},inplace=True)"
   ]
  },
  {
   "cell_type": "code",
   "execution_count": 67,
   "metadata": {
    "execution": {
     "iopub.execute_input": "2025-08-29T08:09:20.839715Z",
     "iopub.status.busy": "2025-08-29T08:09:20.839354Z",
     "iopub.status.idle": "2025-08-29T08:09:20.865716Z",
     "shell.execute_reply": "2025-08-29T08:09:20.864466Z",
     "shell.execute_reply.started": "2025-08-29T08:09:20.839693Z"
    },
    "trusted": true
   },
   "outputs": [
    {
     "data": {
      "text/plain": [
       "orderid            0\n",
       "orderdate          0\n",
       "shipmode           0\n",
       "segment            0\n",
       "country            0\n",
       "city               0\n",
       "state              0\n",
       "postalcode         0\n",
       "region             0\n",
       "category           0\n",
       "subcategory        0\n",
       "productid          0\n",
       "costprice          0\n",
       "listprice          0\n",
       "quantity           0\n",
       "discountpercent    0\n",
       "dtype: int64"
      ]
     },
     "execution_count": 67,
     "metadata": {},
     "output_type": "execute_result"
    }
   ],
   "source": [
    "df.isnull().sum()"
   ]
  },
  {
   "cell_type": "markdown",
   "metadata": {},
   "source": [
    "**Exploring and Retrieving Data with the help of indexing,slicing and grouping**\n",
    "*Indexing:Selecting rows or columns*\n",
    "*Slicing:Extract sub dataframe *\n",
    "*grouping:Split Data by category*\n",
    "*Aggregation:Summary Stats of grouped data*"
   ]
  },
  {
   "cell_type": "code",
   "execution_count": 68,
   "metadata": {
    "execution": {
     "iopub.execute_input": "2025-08-29T08:09:20.867038Z",
     "iopub.status.busy": "2025-08-29T08:09:20.866696Z",
     "iopub.status.idle": "2025-08-29T08:09:20.891513Z",
     "shell.execute_reply": "2025-08-29T08:09:20.890275Z",
     "shell.execute_reply.started": "2025-08-29T08:09:20.867010Z"
    },
    "trusted": true
   },
   "outputs": [
    {
     "data": {
      "text/plain": [
       "0         Second Class\n",
       "1         Second Class\n",
       "2         Second Class\n",
       "3       Standard Class\n",
       "4       Standard Class\n",
       "             ...      \n",
       "9989      Second Class\n",
       "9990    Standard Class\n",
       "9991    Standard Class\n",
       "9992    Standard Class\n",
       "9993      Second Class\n",
       "Name: shipmode, Length: 9994, dtype: category\n",
       "Categories (6, object): ['First Class', 'Not Available', 'Same Day', 'Second Class', 'Standard Class', 'unknown']"
      ]
     },
     "execution_count": 68,
     "metadata": {},
     "output_type": "execute_result"
    }
   ],
   "source": [
    "df['shipmode']"
   ]
  },
  {
   "cell_type": "code",
   "execution_count": 69,
   "metadata": {
    "execution": {
     "iopub.execute_input": "2025-08-29T08:09:20.892730Z",
     "iopub.status.busy": "2025-08-29T08:09:20.892437Z",
     "iopub.status.idle": "2025-08-29T08:09:20.920294Z",
     "shell.execute_reply": "2025-08-29T08:09:20.919164Z",
     "shell.execute_reply.started": "2025-08-29T08:09:20.892708Z"
    },
    "trusted": true
   },
   "outputs": [
    {
     "data": {
      "text/html": [
       "<div>\n",
       "<style scoped>\n",
       "    .dataframe tbody tr th:only-of-type {\n",
       "        vertical-align: middle;\n",
       "    }\n",
       "\n",
       "    .dataframe tbody tr th {\n",
       "        vertical-align: top;\n",
       "    }\n",
       "\n",
       "    .dataframe thead th {\n",
       "        text-align: right;\n",
       "    }\n",
       "</style>\n",
       "<table border=\"1\" class=\"dataframe\">\n",
       "  <thead>\n",
       "    <tr style=\"text-align: right;\">\n",
       "      <th></th>\n",
       "      <th>shipmode</th>\n",
       "      <th>region</th>\n",
       "    </tr>\n",
       "  </thead>\n",
       "  <tbody>\n",
       "    <tr>\n",
       "      <th>0</th>\n",
       "      <td>Second Class</td>\n",
       "      <td>South</td>\n",
       "    </tr>\n",
       "    <tr>\n",
       "      <th>1</th>\n",
       "      <td>Second Class</td>\n",
       "      <td>South</td>\n",
       "    </tr>\n",
       "    <tr>\n",
       "      <th>2</th>\n",
       "      <td>Second Class</td>\n",
       "      <td>West</td>\n",
       "    </tr>\n",
       "    <tr>\n",
       "      <th>3</th>\n",
       "      <td>Standard Class</td>\n",
       "      <td>South</td>\n",
       "    </tr>\n",
       "    <tr>\n",
       "      <th>4</th>\n",
       "      <td>Standard Class</td>\n",
       "      <td>South</td>\n",
       "    </tr>\n",
       "    <tr>\n",
       "      <th>...</th>\n",
       "      <td>...</td>\n",
       "      <td>...</td>\n",
       "    </tr>\n",
       "    <tr>\n",
       "      <th>9989</th>\n",
       "      <td>Second Class</td>\n",
       "      <td>South</td>\n",
       "    </tr>\n",
       "    <tr>\n",
       "      <th>9990</th>\n",
       "      <td>Standard Class</td>\n",
       "      <td>West</td>\n",
       "    </tr>\n",
       "    <tr>\n",
       "      <th>9991</th>\n",
       "      <td>Standard Class</td>\n",
       "      <td>West</td>\n",
       "    </tr>\n",
       "    <tr>\n",
       "      <th>9992</th>\n",
       "      <td>Standard Class</td>\n",
       "      <td>West</td>\n",
       "    </tr>\n",
       "    <tr>\n",
       "      <th>9993</th>\n",
       "      <td>Second Class</td>\n",
       "      <td>West</td>\n",
       "    </tr>\n",
       "  </tbody>\n",
       "</table>\n",
       "<p>9994 rows × 2 columns</p>\n",
       "</div>"
      ],
      "text/plain": [
       "            shipmode region\n",
       "0       Second Class  South\n",
       "1       Second Class  South\n",
       "2       Second Class   West\n",
       "3     Standard Class  South\n",
       "4     Standard Class  South\n",
       "...              ...    ...\n",
       "9989    Second Class  South\n",
       "9990  Standard Class   West\n",
       "9991  Standard Class   West\n",
       "9992  Standard Class   West\n",
       "9993    Second Class   West\n",
       "\n",
       "[9994 rows x 2 columns]"
      ]
     },
     "execution_count": 69,
     "metadata": {},
     "output_type": "execute_result"
    }
   ],
   "source": [
    "df[['shipmode','region']]"
   ]
  },
  {
   "cell_type": "code",
   "execution_count": 70,
   "metadata": {
    "execution": {
     "iopub.execute_input": "2025-08-29T08:09:20.921736Z",
     "iopub.status.busy": "2025-08-29T08:09:20.921379Z",
     "iopub.status.idle": "2025-08-29T08:09:20.942850Z",
     "shell.execute_reply": "2025-08-29T08:09:20.941997Z",
     "shell.execute_reply.started": "2025-08-29T08:09:20.921706Z"
    },
    "trusted": true
   },
   "outputs": [
    {
     "data": {
      "text/plain": [
       "'Second Class'"
      ]
     },
     "execution_count": 70,
     "metadata": {},
     "output_type": "execute_result"
    }
   ],
   "source": [
    "#Accessing 1st row of shipmode column-->'Second Class'\n",
    "df.loc[0,'shipmode']#here '0' is index and 'shipmode' is label(index name)"
   ]
  },
  {
   "cell_type": "code",
   "execution_count": 71,
   "metadata": {
    "execution": {
     "iopub.execute_input": "2025-08-29T08:09:20.944653Z",
     "iopub.status.busy": "2025-08-29T08:09:20.943860Z",
     "iopub.status.idle": "2025-08-29T08:09:20.975054Z",
     "shell.execute_reply": "2025-08-29T08:09:20.974196Z",
     "shell.execute_reply.started": "2025-08-29T08:09:20.944610Z"
    },
    "trusted": true
   },
   "outputs": [
    {
     "data": {
      "text/html": [
       "<div>\n",
       "<style scoped>\n",
       "    .dataframe tbody tr th:only-of-type {\n",
       "        vertical-align: middle;\n",
       "    }\n",
       "\n",
       "    .dataframe tbody tr th {\n",
       "        vertical-align: top;\n",
       "    }\n",
       "\n",
       "    .dataframe thead th {\n",
       "        text-align: right;\n",
       "    }\n",
       "</style>\n",
       "<table border=\"1\" class=\"dataframe\">\n",
       "  <thead>\n",
       "    <tr style=\"text-align: right;\">\n",
       "      <th></th>\n",
       "      <th>orderid</th>\n",
       "      <th>orderdate</th>\n",
       "      <th>shipmode</th>\n",
       "      <th>segment</th>\n",
       "      <th>country</th>\n",
       "      <th>city</th>\n",
       "      <th>state</th>\n",
       "      <th>postalcode</th>\n",
       "      <th>region</th>\n",
       "      <th>category</th>\n",
       "      <th>subcategory</th>\n",
       "      <th>productid</th>\n",
       "      <th>costprice</th>\n",
       "      <th>listprice</th>\n",
       "      <th>quantity</th>\n",
       "      <th>discountpercent</th>\n",
       "    </tr>\n",
       "  </thead>\n",
       "  <tbody>\n",
       "    <tr>\n",
       "      <th>0</th>\n",
       "      <td>1</td>\n",
       "      <td>2023-03-01</td>\n",
       "      <td>Second Class</td>\n",
       "      <td>Consumer</td>\n",
       "      <td>United States</td>\n",
       "      <td>Henderson</td>\n",
       "      <td>Kentucky</td>\n",
       "      <td>42420</td>\n",
       "      <td>South</td>\n",
       "      <td>Furniture</td>\n",
       "      <td>Bookcases</td>\n",
       "      <td>FUR-BO-10001798</td>\n",
       "      <td>240</td>\n",
       "      <td>260</td>\n",
       "      <td>2</td>\n",
       "      <td>2.0</td>\n",
       "    </tr>\n",
       "    <tr>\n",
       "      <th>1</th>\n",
       "      <td>2</td>\n",
       "      <td>2023-08-15</td>\n",
       "      <td>Second Class</td>\n",
       "      <td>Consumer</td>\n",
       "      <td>United States</td>\n",
       "      <td>Henderson</td>\n",
       "      <td>Kentucky</td>\n",
       "      <td>42420</td>\n",
       "      <td>South</td>\n",
       "      <td>Furniture</td>\n",
       "      <td>Chairs</td>\n",
       "      <td>FUR-CH-10000454</td>\n",
       "      <td>600</td>\n",
       "      <td>730</td>\n",
       "      <td>3</td>\n",
       "      <td>3.0</td>\n",
       "    </tr>\n",
       "    <tr>\n",
       "      <th>2</th>\n",
       "      <td>3</td>\n",
       "      <td>2023-01-10</td>\n",
       "      <td>Second Class</td>\n",
       "      <td>Corporate</td>\n",
       "      <td>United States</td>\n",
       "      <td>Los Angeles</td>\n",
       "      <td>California</td>\n",
       "      <td>90036</td>\n",
       "      <td>West</td>\n",
       "      <td>Office Supplies</td>\n",
       "      <td>Labels</td>\n",
       "      <td>OFF-LA-10000240</td>\n",
       "      <td>10</td>\n",
       "      <td>10</td>\n",
       "      <td>2</td>\n",
       "      <td>5.0</td>\n",
       "    </tr>\n",
       "    <tr>\n",
       "      <th>3</th>\n",
       "      <td>4</td>\n",
       "      <td>2022-06-18</td>\n",
       "      <td>Standard Class</td>\n",
       "      <td>Consumer</td>\n",
       "      <td>United States</td>\n",
       "      <td>Fort Lauderdale</td>\n",
       "      <td>Florida</td>\n",
       "      <td>33311</td>\n",
       "      <td>South</td>\n",
       "      <td>Furniture</td>\n",
       "      <td>Tables</td>\n",
       "      <td>FUR-TA-10000577</td>\n",
       "      <td>780</td>\n",
       "      <td>960</td>\n",
       "      <td>5</td>\n",
       "      <td>2.0</td>\n",
       "    </tr>\n",
       "    <tr>\n",
       "      <th>4</th>\n",
       "      <td>5</td>\n",
       "      <td>2022-07-13</td>\n",
       "      <td>Standard Class</td>\n",
       "      <td>Consumer</td>\n",
       "      <td>United States</td>\n",
       "      <td>Fort Lauderdale</td>\n",
       "      <td>Florida</td>\n",
       "      <td>33311</td>\n",
       "      <td>South</td>\n",
       "      <td>Office Supplies</td>\n",
       "      <td>Storage</td>\n",
       "      <td>OFF-ST-10000760</td>\n",
       "      <td>20</td>\n",
       "      <td>20</td>\n",
       "      <td>2</td>\n",
       "      <td>5.0</td>\n",
       "    </tr>\n",
       "    <tr>\n",
       "      <th>5</th>\n",
       "      <td>6</td>\n",
       "      <td>2022-03-13</td>\n",
       "      <td>Not Available</td>\n",
       "      <td>Consumer</td>\n",
       "      <td>United States</td>\n",
       "      <td>Los Angeles</td>\n",
       "      <td>California</td>\n",
       "      <td>90032</td>\n",
       "      <td>West</td>\n",
       "      <td>Furniture</td>\n",
       "      <td>Furnishings</td>\n",
       "      <td>FUR-FU-10001487</td>\n",
       "      <td>50</td>\n",
       "      <td>50</td>\n",
       "      <td>7</td>\n",
       "      <td>3.0</td>\n",
       "    </tr>\n",
       "    <tr>\n",
       "      <th>6</th>\n",
       "      <td>7</td>\n",
       "      <td>2022-12-28</td>\n",
       "      <td>Standard Class</td>\n",
       "      <td>Consumer</td>\n",
       "      <td>United States</td>\n",
       "      <td>Los Angeles</td>\n",
       "      <td>California</td>\n",
       "      <td>90032</td>\n",
       "      <td>West</td>\n",
       "      <td>Office Supplies</td>\n",
       "      <td>Art</td>\n",
       "      <td>OFF-AR-10002833</td>\n",
       "      <td>10</td>\n",
       "      <td>10</td>\n",
       "      <td>4</td>\n",
       "      <td>3.0</td>\n",
       "    </tr>\n",
       "    <tr>\n",
       "      <th>7</th>\n",
       "      <td>8</td>\n",
       "      <td>2022-01-25</td>\n",
       "      <td>Standard Class</td>\n",
       "      <td>Consumer</td>\n",
       "      <td>United States</td>\n",
       "      <td>Los Angeles</td>\n",
       "      <td>California</td>\n",
       "      <td>90032</td>\n",
       "      <td>West</td>\n",
       "      <td>Technology</td>\n",
       "      <td>Phones</td>\n",
       "      <td>TEC-PH-10002275</td>\n",
       "      <td>860</td>\n",
       "      <td>910</td>\n",
       "      <td>6</td>\n",
       "      <td>5.0</td>\n",
       "    </tr>\n",
       "    <tr>\n",
       "      <th>8</th>\n",
       "      <td>9</td>\n",
       "      <td>2023-03-23</td>\n",
       "      <td>Not Available</td>\n",
       "      <td>Consumer</td>\n",
       "      <td>United States</td>\n",
       "      <td>Los Angeles</td>\n",
       "      <td>California</td>\n",
       "      <td>90032</td>\n",
       "      <td>West</td>\n",
       "      <td>Office Supplies</td>\n",
       "      <td>Binders</td>\n",
       "      <td>OFF-BI-10003910</td>\n",
       "      <td>20</td>\n",
       "      <td>20</td>\n",
       "      <td>3</td>\n",
       "      <td>2.0</td>\n",
       "    </tr>\n",
       "    <tr>\n",
       "      <th>9</th>\n",
       "      <td>10</td>\n",
       "      <td>2023-05-16</td>\n",
       "      <td>Standard Class</td>\n",
       "      <td>Consumer</td>\n",
       "      <td>United States</td>\n",
       "      <td>Los Angeles</td>\n",
       "      <td>California</td>\n",
       "      <td>90032</td>\n",
       "      <td>West</td>\n",
       "      <td>Office Supplies</td>\n",
       "      <td>Appliances</td>\n",
       "      <td>OFF-AP-10002892</td>\n",
       "      <td>90</td>\n",
       "      <td>110</td>\n",
       "      <td>5</td>\n",
       "      <td>3.0</td>\n",
       "    </tr>\n",
       "  </tbody>\n",
       "</table>\n",
       "</div>"
      ],
      "text/plain": [
       "  orderid  orderdate        shipmode    segment        country  \\\n",
       "0       1 2023-03-01    Second Class   Consumer  United States   \n",
       "1       2 2023-08-15    Second Class   Consumer  United States   \n",
       "2       3 2023-01-10    Second Class  Corporate  United States   \n",
       "3       4 2022-06-18  Standard Class   Consumer  United States   \n",
       "4       5 2022-07-13  Standard Class   Consumer  United States   \n",
       "5       6 2022-03-13   Not Available   Consumer  United States   \n",
       "6       7 2022-12-28  Standard Class   Consumer  United States   \n",
       "7       8 2022-01-25  Standard Class   Consumer  United States   \n",
       "8       9 2023-03-23   Not Available   Consumer  United States   \n",
       "9      10 2023-05-16  Standard Class   Consumer  United States   \n",
       "\n",
       "              city       state postalcode region         category  \\\n",
       "0        Henderson    Kentucky      42420  South        Furniture   \n",
       "1        Henderson    Kentucky      42420  South        Furniture   \n",
       "2      Los Angeles  California      90036   West  Office Supplies   \n",
       "3  Fort Lauderdale     Florida      33311  South        Furniture   \n",
       "4  Fort Lauderdale     Florida      33311  South  Office Supplies   \n",
       "5      Los Angeles  California      90032   West        Furniture   \n",
       "6      Los Angeles  California      90032   West  Office Supplies   \n",
       "7      Los Angeles  California      90032   West       Technology   \n",
       "8      Los Angeles  California      90032   West  Office Supplies   \n",
       "9      Los Angeles  California      90032   West  Office Supplies   \n",
       "\n",
       "   subcategory        productid  costprice  listprice  quantity  \\\n",
       "0    Bookcases  FUR-BO-10001798        240        260         2   \n",
       "1       Chairs  FUR-CH-10000454        600        730         3   \n",
       "2       Labels  OFF-LA-10000240         10         10         2   \n",
       "3       Tables  FUR-TA-10000577        780        960         5   \n",
       "4      Storage  OFF-ST-10000760         20         20         2   \n",
       "5  Furnishings  FUR-FU-10001487         50         50         7   \n",
       "6          Art  OFF-AR-10002833         10         10         4   \n",
       "7       Phones  TEC-PH-10002275        860        910         6   \n",
       "8      Binders  OFF-BI-10003910         20         20         3   \n",
       "9   Appliances  OFF-AP-10002892         90        110         5   \n",
       "\n",
       "   discountpercent  \n",
       "0              2.0  \n",
       "1              3.0  \n",
       "2              5.0  \n",
       "3              2.0  \n",
       "4              5.0  \n",
       "5              3.0  \n",
       "6              3.0  \n",
       "7              5.0  \n",
       "8              2.0  \n",
       "9              3.0  "
      ]
     },
     "execution_count": 71,
     "metadata": {},
     "output_type": "execute_result"
    }
   ],
   "source": [
    "df.head(10)"
   ]
  },
  {
   "cell_type": "code",
   "execution_count": 72,
   "metadata": {
    "execution": {
     "iopub.execute_input": "2025-08-29T08:09:20.976374Z",
     "iopub.status.busy": "2025-08-29T08:09:20.976038Z",
     "iopub.status.idle": "2025-08-29T08:09:20.996024Z",
     "shell.execute_reply": "2025-08-29T08:09:20.994981Z",
     "shell.execute_reply.started": "2025-08-29T08:09:20.976346Z"
    },
    "trusted": true
   },
   "outputs": [
    {
     "data": {
      "text/plain": [
       "Timestamp('2023-03-01 00:00:00')"
      ]
     },
     "execution_count": 72,
     "metadata": {},
     "output_type": "execute_result"
    }
   ],
   "source": [
    "#Now we will access by using positions\n",
    "df.iloc[0,1]#Which means it results value of row-0 and column-1 "
   ]
  },
  {
   "cell_type": "code",
   "execution_count": 73,
   "metadata": {
    "execution": {
     "iopub.execute_input": "2025-08-29T08:09:20.997744Z",
     "iopub.status.busy": "2025-08-29T08:09:20.997399Z",
     "iopub.status.idle": "2025-08-29T08:09:21.018383Z",
     "shell.execute_reply": "2025-08-29T08:09:21.017464Z",
     "shell.execute_reply.started": "2025-08-29T08:09:20.997716Z"
    },
    "trusted": true
   },
   "outputs": [
    {
     "data": {
      "text/plain": [
       "'Second Class'"
      ]
     },
     "execution_count": 73,
     "metadata": {},
     "output_type": "execute_result"
    }
   ],
   "source": [
    "#From above table we can see that column-2 is of label named 'shipmode'.Now we will access same second class which is at the position row-0 and column-2\n",
    "df.iloc[0,2]"
   ]
  },
  {
   "cell_type": "code",
   "execution_count": 74,
   "metadata": {
    "execution": {
     "iopub.execute_input": "2025-08-29T08:09:21.019613Z",
     "iopub.status.busy": "2025-08-29T08:09:21.019352Z",
     "iopub.status.idle": "2025-08-29T08:09:21.044689Z",
     "shell.execute_reply": "2025-08-29T08:09:21.043540Z",
     "shell.execute_reply.started": "2025-08-29T08:09:21.019594Z"
    },
    "trusted": true
   },
   "outputs": [
    {
     "data": {
      "text/plain": [
       "shipmode\n",
       "First Class        308790\n",
       "Not Available        2290\n",
       "Same Day           112760\n",
       "Second Class       401590\n",
       "Standard Class    1185200\n",
       "unknown                60\n",
       "Name: costprice, dtype: int64"
      ]
     },
     "execution_count": 74,
     "metadata": {},
     "output_type": "execute_result"
    }
   ],
   "source": [
    "#For grouping first we should select the category in this 'shipmode' is of type category and data related to that category to split we will consider 'costprice'\n",
    "df.groupby('shipmode',observed=True)['costprice'].sum()#Here .sum() gives sum of all boxes of costprice with respect to the categories."
   ]
  },
  {
   "cell_type": "code",
   "execution_count": 75,
   "metadata": {
    "execution": {
     "iopub.execute_input": "2025-08-29T08:09:21.046046Z",
     "iopub.status.busy": "2025-08-29T08:09:21.045694Z",
     "iopub.status.idle": "2025-08-29T08:09:21.072097Z",
     "shell.execute_reply": "2025-08-29T08:09:21.070684Z",
     "shell.execute_reply.started": "2025-08-29T08:09:21.046017Z"
    },
    "trusted": true
   },
   "outputs": [
    {
     "data": {
      "text/plain": [
       "shipmode        region \n",
       "First Class     Central     299\n",
       "                East        490\n",
       "                South       234\n",
       "                West        515\n",
       "Not Available   West          4\n",
       "Same Day        Central     120\n",
       "                East        155\n",
       "                South        83\n",
       "                West        185\n",
       "Second Class    Central     465\n",
       "                East        530\n",
       "                South       329\n",
       "                West        621\n",
       "Standard Class  Central    1438\n",
       "                East       1673\n",
       "                South       974\n",
       "                West       1878\n",
       "unknown         Central       1\n",
       "Name: costprice, dtype: int64"
      ]
     },
     "execution_count": 75,
     "metadata": {},
     "output_type": "execute_result"
    }
   ],
   "source": [
    "#we can also group multiple categories and apply aggregation methods \n",
    "df.groupby(['shipmode','region'],observed=True)['costprice'].count()#.count() returns no.of non missing values"
   ]
  },
  {
   "cell_type": "markdown",
   "metadata": {},
   "source": [
    "**Aggregation methods:**\n",
    "**Single Aggregation*\n",
    "count() → number of non-missing values\n",
    "nunique() → number of unique values\n",
    "size() → total group size (ignores NaNs unlike count)\n",
    "sum() → sum of values\n",
    "mean() → average\n",
    "median() → median\n",
    "min() / max() → min and max\n",
    "std() → standard deviation\n",
    "var() → variance\n",
    "prod() → product of all values\n",
    "**Multiple Aggregation**\n",
    "combining more than one single aggregation methods in a list."
   ]
  },
  {
   "cell_type": "code",
   "execution_count": 76,
   "metadata": {
    "execution": {
     "iopub.execute_input": "2025-08-29T08:09:21.074074Z",
     "iopub.status.busy": "2025-08-29T08:09:21.073368Z",
     "iopub.status.idle": "2025-08-29T08:09:21.099973Z",
     "shell.execute_reply": "2025-08-29T08:09:21.099018Z",
     "shell.execute_reply.started": "2025-08-29T08:09:21.074038Z"
    },
    "trusted": true
   },
   "outputs": [
    {
     "data": {
      "text/html": [
       "<div>\n",
       "<style scoped>\n",
       "    .dataframe tbody tr th:only-of-type {\n",
       "        vertical-align: middle;\n",
       "    }\n",
       "\n",
       "    .dataframe tbody tr th {\n",
       "        vertical-align: top;\n",
       "    }\n",
       "\n",
       "    .dataframe thead th {\n",
       "        text-align: right;\n",
       "    }\n",
       "</style>\n",
       "<table border=\"1\" class=\"dataframe\">\n",
       "  <thead>\n",
       "    <tr style=\"text-align: right;\">\n",
       "      <th></th>\n",
       "      <th>sum</th>\n",
       "      <th>count</th>\n",
       "    </tr>\n",
       "    <tr>\n",
       "      <th>shipmode</th>\n",
       "      <th></th>\n",
       "      <th></th>\n",
       "    </tr>\n",
       "  </thead>\n",
       "  <tbody>\n",
       "    <tr>\n",
       "      <th>First Class</th>\n",
       "      <td>308790</td>\n",
       "      <td>1538</td>\n",
       "    </tr>\n",
       "    <tr>\n",
       "      <th>Not Available</th>\n",
       "      <td>2290</td>\n",
       "      <td>4</td>\n",
       "    </tr>\n",
       "    <tr>\n",
       "      <th>Same Day</th>\n",
       "      <td>112760</td>\n",
       "      <td>543</td>\n",
       "    </tr>\n",
       "    <tr>\n",
       "      <th>Second Class</th>\n",
       "      <td>401590</td>\n",
       "      <td>1945</td>\n",
       "    </tr>\n",
       "    <tr>\n",
       "      <th>Standard Class</th>\n",
       "      <td>1185200</td>\n",
       "      <td>5963</td>\n",
       "    </tr>\n",
       "    <tr>\n",
       "      <th>unknown</th>\n",
       "      <td>60</td>\n",
       "      <td>1</td>\n",
       "    </tr>\n",
       "  </tbody>\n",
       "</table>\n",
       "</div>"
      ],
      "text/plain": [
       "                    sum  count\n",
       "shipmode                      \n",
       "First Class      308790   1538\n",
       "Not Available      2290      4\n",
       "Same Day         112760    543\n",
       "Second Class     401590   1945\n",
       "Standard Class  1185200   5963\n",
       "unknown              60      1"
      ]
     },
     "execution_count": 76,
     "metadata": {},
     "output_type": "execute_result"
    }
   ],
   "source": [
    "#Lets apply multiple aggregation. We will use both .sum() and .count()\n",
    "df.groupby(['shipmode'],observed=True)['costprice'].agg(['sum','count'])"
   ]
  },
  {
   "cell_type": "code",
   "execution_count": 84,
   "metadata": {
    "execution": {
     "iopub.execute_input": "2025-08-29T08:14:25.370352Z",
     "iopub.status.busy": "2025-08-29T08:14:25.369711Z",
     "iopub.status.idle": "2025-08-29T08:14:25.559065Z",
     "shell.execute_reply": "2025-08-29T08:14:25.558208Z",
     "shell.execute_reply.started": "2025-08-29T08:14:25.370327Z"
    },
    "trusted": true
   },
   "outputs": [
    {
     "name": "stderr",
     "output_type": "stream",
     "text": [
      "/usr/local/lib/python3.11/dist-packages/seaborn/categorical.py:641: FutureWarning: The default of observed=False is deprecated and will be changed to True in a future version of pandas. Pass observed=False to retain current behavior or observed=True to adopt the future default and silence this warning.\n",
      "  grouped_vals = vals.groupby(grouper)\n"
     ]
    },
    {
     "data": {
      "image/png": "[encoded data removed]",
      "text/plain": [
       "<Figure size 700x400 with 1 Axes>"
      ]
     },
     "metadata": {},
     "output_type": "display_data"
    }
   ],
   "source": [
    "#Bar Chart-Total costprice per shipmode\n",
    "import matplotlib.pyplot as plt\n",
    "import seaborn as sns\n",
    " #lets draw a bar graph b/w shipmode(category) and costprice(numerical data sum)\n",
    "shipmode_sum=df.groupby(['shipmode'],observed=True)['costprice'].agg('sum').reset_index()\n",
    "plt.figure(figsize=(7,4))\n",
    "sns.barplot(data=shipmode_sum,x='shipmode',y='costprice')\n",
    "plt.title('Shipmodes vs aggregated costprice ')\n",
    "plt.xlabel('shipmode')\n",
    "plt.ylabel('costprice')\n",
    "plt.show()\n"
   ]
  },
  {
   "cell_type": "code",
   "execution_count": 119,
   "metadata": {
    "execution": {
     "iopub.execute_input": "2025-08-29T08:54:17.569995Z",
     "iopub.status.busy": "2025-08-29T08:54:17.569639Z",
     "iopub.status.idle": "2025-08-29T08:54:17.723852Z",
     "shell.execute_reply": "2025-08-29T08:54:17.722876Z",
     "shell.execute_reply.started": "2025-08-29T08:54:17.569970Z"
    },
    "trusted": true
   },
   "outputs": [
    {
     "data": {
      "image/png": "[encoded data removed]",
      "text/plain": [
       "<Figure size 700x400 with 1 Axes>"
      ]
     },
     "metadata": {},
     "output_type": "display_data"
    }
   ],
   "source": [
    "#count plot-how many orders per shipmode\n",
    "plt.figure(figsize=(7,4))\n",
    "sns.countplot(data=df,x='region',width=0.5)\n",
    "plt.title('Regions vs freq of each region')\n",
    "plt.ylabel('feq of region')\n",
    "plt.show()"
   ]
  },
  {
   "cell_type": "code",
   "execution_count": 107,
   "metadata": {
    "execution": {
     "iopub.execute_input": "2025-08-29T08:47:45.835446Z",
     "iopub.status.busy": "2025-08-29T08:47:45.835102Z",
     "iopub.status.idle": "2025-08-29T08:47:49.408889Z",
     "shell.execute_reply": "2025-08-29T08:47:49.407817Z",
     "shell.execute_reply.started": "2025-08-29T08:47:45.835424Z"
    },
    "trusted": true
   },
   "outputs": [
    {
     "data": {
      "image/png": "[encoded data removed]",
      "text/plain": [
       "<Figure size 640x480 with 1 Axes>"
      ]
     },
     "metadata": {},
     "output_type": "display_data"
    }
   ],
   "source": [
    "#We will analyse data of orders w.r.t each country--countplot makes it easy\n",
    "sns.countplot(data=df,x='city')\n",
    "plt.title('no of cities')\n",
    "plt.ylabel('freq of city')\n",
    "plt.xlabel('cities')\n",
    "plt.show()"
   ]
  },
  {
   "cell_type": "code",
   "execution_count": 120,
   "metadata": {
    "execution": {
     "iopub.execute_input": "2025-08-29T08:55:36.264827Z",
     "iopub.status.busy": "2025-08-29T08:55:36.264499Z",
     "iopub.status.idle": "2025-08-29T08:55:40.553848Z",
     "shell.execute_reply": "2025-08-29T08:55:40.552894Z",
     "shell.execute_reply.started": "2025-08-29T08:55:36.264805Z"
    },
    "trusted": true
   },
   "outputs": [
    {
     "data": {
      "image/png": "[encoded data removed]",
      "text/plain": [
       "<Figure size 640x480 with 1 Axes>"
      ]
     },
     "metadata": {},
     "output_type": "display_data"
    }
   ],
   "source": [
    "#If we want to change the axis x-y and y-x simply cahnge x to y\n",
    "#We will analyse data of orders w.r.t each country--countplot makes it easy\n",
    "sns.countplot(data=df,y='city')\n",
    "plt.title('no of cities')\n",
    "plt.xlabel('freq of city')\n",
    "plt.ylabel('cities')\n",
    "plt.show()"
   ]
  },
  {
   "cell_type": "markdown",
   "metadata": {},
   "source": [
    "**Boxplot logic:**\n",
    "Box middle line = median.\n",
    "Box edges = Q1 (25th percentile) and Q3 (75th percentile).\n",
    "Whiskers = data spread within 1.5×IQR.\n",
    "Dots beyond whiskers = outliers."
   ]
  },
  {
   "cell_type": "code",
   "execution_count": 121,
   "metadata": {
    "execution": {
     "iopub.execute_input": "2025-08-29T09:06:13.355626Z",
     "iopub.status.busy": "2025-08-29T09:06:13.355309Z",
     "iopub.status.idle": "2025-08-29T09:06:13.599475Z",
     "shell.execute_reply": "2025-08-29T09:06:13.598626Z",
     "shell.execute_reply.started": "2025-08-29T09:06:13.355603Z"
    },
    "trusted": true
   },
   "outputs": [
    {
     "name": "stderr",
     "output_type": "stream",
     "text": [
      "/usr/local/lib/python3.11/dist-packages/seaborn/categorical.py:641: FutureWarning: The default of observed=False is deprecated and will be changed to True in a future version of pandas. Pass observed=False to retain current behavior or observed=True to adopt the future default and silence this warning.\n",
      "  grouped_vals = vals.groupby(grouper)\n"
     ]
    },
    {
     "data": {
      "image/png": "[encoded data removed]",
      "text/plain": [
       "<Figure size 600x400 with 1 Axes>"
      ]
     },
     "metadata": {},
     "output_type": "display_data"
    }
   ],
   "source": [
    "#Box plot of cost distribution per Ship Mode-used when we want to compare spread & outliers across categories.\n",
    "plt.figure(figsize=(6,4))\n",
    "sns.boxplot(data=df, x='shipmode', y='costprice', palette='pastel')\n",
    "plt.title(\"Cost Distribution by Ship Mode\")\n",
    "plt.show()"
   ]
  },
  {
   "cell_type": "markdown",
   "metadata": {},
   "source": [
    "Those dots are outliers (Strange numbers that are too high or low)"
   ]
  },
  {
   "cell_type": "code",
   "execution_count": 122,
   "metadata": {
    "execution": {
     "iopub.execute_input": "2025-08-29T09:26:19.935719Z",
     "iopub.status.busy": "2025-08-29T09:26:19.935375Z",
     "iopub.status.idle": "2025-08-29T09:26:20.360384Z",
     "shell.execute_reply": "2025-08-29T09:26:20.359307Z",
     "shell.execute_reply.started": "2025-08-29T09:26:19.935696Z"
    },
    "trusted": true
   },
   "outputs": [
    {
     "name": "stderr",
     "output_type": "stream",
     "text": [
      "/usr/local/lib/python3.11/dist-packages/seaborn/categorical.py:641: FutureWarning: The default of observed=False is deprecated and will be changed to True in a future version of pandas. Pass observed=False to retain current behavior or observed=True to adopt the future default and silence this warning.\n",
      "  grouped_vals = vals.groupby(grouper)\n"
     ]
    },
    {
     "data": {
      "image/png": "[encoded data removed]",
      "text/plain": [
       "<Figure size 600x400 with 1 Axes>"
      ]
     },
     "metadata": {},
     "output_type": "display_data"
    }
   ],
   "source": [
    "#violin plot=boxplot+shape of the data--use when you want both summary and full story of distribution\n",
    "plt.figure(figsize=(6,4))\n",
    "sns.violinplot(data=df, x='shipmode', y='costprice', palette='muted')\n",
    "plt.title(\"Cost Distribution by Ship Mode (Violin)\")\n",
    "plt.show()"
   ]
  },
  {
   "cell_type": "code",
   "execution_count": 125,
   "metadata": {
    "execution": {
     "iopub.execute_input": "2025-08-29T09:43:25.888984Z",
     "iopub.status.busy": "2025-08-29T09:43:25.886943Z",
     "iopub.status.idle": "2025-08-29T09:43:26.397224Z",
     "shell.execute_reply": "2025-08-29T09:43:26.396142Z",
     "shell.execute_reply.started": "2025-08-29T09:43:25.888930Z"
    },
    "trusted": true
   },
   "outputs": [
    {
     "data": {
      "image/png": "[encoded data removed]",
      "text/plain": [
       "<Figure size 600x600 with 1 Axes>"
      ]
     },
     "metadata": {},
     "output_type": "display_data"
    }
   ],
   "source": [
    "#To compare proportions among categories\n",
    "shipmode_count = df['shipmode'].value_counts()\n",
    "\n",
    "plt.figure(figsize=(6,6))\n",
    "plt.pie(shipmode_count, labels=shipmode_count.index, autopct='%1.1f%%', startangle=90)\n",
    "plt.title(\"Proportion of Orders by Ship Mode\")\n",
    "plt.show()"
   ]
  },
  {
   "cell_type": "code",
   "execution_count": 124,
   "metadata": {
    "execution": {
     "iopub.execute_input": "2025-08-29T09:26:50.676034Z",
     "iopub.status.busy": "2025-08-29T09:26:50.675660Z",
     "iopub.status.idle": "2025-08-29T09:26:50.897495Z",
     "shell.execute_reply": "2025-08-29T09:26:50.895769Z",
     "shell.execute_reply.started": "2025-08-29T09:26:50.676008Z"
    },
    "trusted": true
   },
   "outputs": [
    {
     "name": "stderr",
     "output_type": "stream",
     "text": [
      "/tmp/ipykernel_36/979218931.py:1: FutureWarning: The default of observed=False is deprecated and will be changed to True in a future version of pandas. Pass observed=False to retain current behavior or observed=True to adopt the future default and silence this warning.\n",
      "  shipmode_mean = df.groupby('shipmode')['costprice'].mean().reset_index()\n",
      "/usr/local/lib/python3.11/dist-packages/seaborn/_oldcore.py:1119: FutureWarning: use_inf_as_na option is deprecated and will be removed in a future version. Convert inf values to NaN before operating instead.\n",
      "  with pd.option_context('mode.use_inf_as_na', True):\n",
      "/usr/local/lib/python3.11/dist-packages/seaborn/_oldcore.py:1119: FutureWarning: use_inf_as_na option is deprecated and will be removed in a future version. Convert inf values to NaN before operating instead.\n",
      "  with pd.option_context('mode.use_inf_as_na', True):\n"
     ]
    },
    {
     "data": {
      "image/png": "[encoded data removed]",
      "text/plain": [
       "<Figure size 600x400 with 1 Axes>"
      ]
     },
     "metadata": {},
     "output_type": "display_data"
    }
   ],
   "source": [
    "#Line plot is connects points with a line--here eachpoint=avg cost per shipmode and line helps see order\n",
    "shipmode_mean = df.groupby('shipmode')['costprice'].mean().reset_index()\n",
    "#This is best to use when order matters\n",
    "plt.figure(figsize=(6,4))\n",
    "sns.lineplot(data=shipmode_mean, x='shipmode', y='costprice', marker='o')\n",
    "plt.title(\"Average Cost by Ship Mode\")\n",
    "plt.ylabel(\"Average Cost\")\n",
    "plt.show()"
   ]
  }
 ],
 "metadata": {
  "kaggle": {
   "accelerator": "none",
   "dataSources": [
    {
     "datasetId": 4787096,
     "sourceId": 8106551,
     "sourceType": "datasetVersion"
    }
   ],
   "dockerImageVersionId": 31089,
   "isGpuEnabled": false,
   "isInternetEnabled": false,
   "language": "python",
   "sourceType": "notebook"
  },
  "kernelspec": {
   "display_name": "Python 3",
   "language": "python",
   "name": "python3"
  },
  "language_info": {
   "codemirror_mode": {
    "name": "ipython",
    "version": 3
   },
   "file_extension": ".py",
   "mimetype": "text/x-python",
   "name": "python",
   "nbconvert_exporter": "python",
   "pygments_lexer": "ipython3",
   "version": "3.11.13"
  }
 },
 "nbformat": 4,
 "nbformat_minor": 4
}
